{
 "cells": [
  {
   "cell_type": "code",
   "execution_count": 2,
   "metadata": {},
   "outputs": [
    {
     "name": "stdout",
     "output_type": "stream",
     "text": [
      "Collecting pygame\n",
      "  Downloading https://files.pythonhosted.org/packages/ed/56/b63ab3724acff69f4080e54c4bc5f55d1fbdeeb19b92b70acf45e88a5908/pygame-1.9.6-cp37-cp37m-win_amd64.whl (4.3MB)\n",
      "Installing collected packages: pygame\n",
      "Successfully installed pygame-1.9.6\n",
      "Note: you may need to restart the kernel to use updated packages.\n"
     ]
    }
   ],
   "source": [
    "pip install pygame"
   ]
  },
  {
   "cell_type": "code",
   "execution_count": 3,
   "metadata": {},
   "outputs": [
    {
     "name": "stdout",
     "output_type": "stream",
     "text": [
      "pygame 1.9.6\n",
      "Hello from the pygame community. https://www.pygame.org/contribute.html\n"
     ]
    }
   ],
   "source": [
    "import pygame"
   ]
  },
  {
   "cell_type": "code",
   "execution_count": 5,
   "metadata": {},
   "outputs": [
    {
     "name": "stdout",
     "output_type": "stream",
     "text": [
      "\n",
      "Water drinking time!!\n",
      "Enter 'drank' to stop the alarm.\n",
      "drank\n",
      "\n",
      "Eyes excercise time!!\n",
      "Enter 'done' to stop the alarm.\n",
      "done\n",
      "\n",
      "Water drinking time!!\n",
      "Enter 'drank' to stop the alarm.\n",
      "drank\n",
      "\n",
      "Physical Activity time!!\n",
      "Enter 'done' to stop the alarm.\n",
      "done\n",
      "completed\n",
      "\n",
      "Water drinking time!!\n",
      "Enter 'drank' to stop the alarm.\n",
      "drank\n",
      "\n",
      "Eyes excercise time!!\n",
      "Enter 'done' to stop the alarm.\n",
      "done\n",
      "\n",
      "Water drinking time!!\n",
      "Enter 'drank' to stop the alarm.\n",
      "drank\n",
      "\n",
      "Eyes excercise time!!\n",
      "Enter 'done' to stop the alarm.\n",
      "done\n",
      "\n",
      "Physical Activity time!!\n",
      "Enter 'done' to stop the alarm.\n",
      "done\n"
     ]
    },
    {
     "ename": "KeyboardInterrupt",
     "evalue": "",
     "output_type": "error",
     "traceback": [
      "\u001b[1;31m---------------------------------------------------------------------------\u001b[0m",
      "\u001b[1;31mKeyboardInterrupt\u001b[0m                         Traceback (most recent call last)",
      "\u001b[1;32m~\\Anaconda3\\lib\\site-packages\\ipykernel\\kernelbase.py\u001b[0m in \u001b[0;36m_input_request\u001b[1;34m(self, prompt, ident, parent, password)\u001b[0m\n\u001b[0;32m    884\u001b[0m             \u001b[1;32mtry\u001b[0m\u001b[1;33m:\u001b[0m\u001b[1;33m\u001b[0m\u001b[1;33m\u001b[0m\u001b[0m\n\u001b[1;32m--> 885\u001b[1;33m                 \u001b[0mident\u001b[0m\u001b[1;33m,\u001b[0m \u001b[0mreply\u001b[0m \u001b[1;33m=\u001b[0m \u001b[0mself\u001b[0m\u001b[1;33m.\u001b[0m\u001b[0msession\u001b[0m\u001b[1;33m.\u001b[0m\u001b[0mrecv\u001b[0m\u001b[1;33m(\u001b[0m\u001b[0mself\u001b[0m\u001b[1;33m.\u001b[0m\u001b[0mstdin_socket\u001b[0m\u001b[1;33m,\u001b[0m \u001b[1;36m0\u001b[0m\u001b[1;33m)\u001b[0m\u001b[1;33m\u001b[0m\u001b[1;33m\u001b[0m\u001b[0m\n\u001b[0m\u001b[0;32m    886\u001b[0m             \u001b[1;32mexcept\u001b[0m \u001b[0mException\u001b[0m\u001b[1;33m:\u001b[0m\u001b[1;33m\u001b[0m\u001b[1;33m\u001b[0m\u001b[0m\n",
      "\u001b[1;32m~\\Anaconda3\\lib\\site-packages\\jupyter_client\\session.py\u001b[0m in \u001b[0;36mrecv\u001b[1;34m(self, socket, mode, content, copy)\u001b[0m\n\u001b[0;32m    802\u001b[0m         \u001b[1;32mtry\u001b[0m\u001b[1;33m:\u001b[0m\u001b[1;33m\u001b[0m\u001b[1;33m\u001b[0m\u001b[0m\n\u001b[1;32m--> 803\u001b[1;33m             \u001b[0mmsg_list\u001b[0m \u001b[1;33m=\u001b[0m \u001b[0msocket\u001b[0m\u001b[1;33m.\u001b[0m\u001b[0mrecv_multipart\u001b[0m\u001b[1;33m(\u001b[0m\u001b[0mmode\u001b[0m\u001b[1;33m,\u001b[0m \u001b[0mcopy\u001b[0m\u001b[1;33m=\u001b[0m\u001b[0mcopy\u001b[0m\u001b[1;33m)\u001b[0m\u001b[1;33m\u001b[0m\u001b[1;33m\u001b[0m\u001b[0m\n\u001b[0m\u001b[0;32m    804\u001b[0m         \u001b[1;32mexcept\u001b[0m \u001b[0mzmq\u001b[0m\u001b[1;33m.\u001b[0m\u001b[0mZMQError\u001b[0m \u001b[1;32mas\u001b[0m \u001b[0me\u001b[0m\u001b[1;33m:\u001b[0m\u001b[1;33m\u001b[0m\u001b[1;33m\u001b[0m\u001b[0m\n",
      "\u001b[1;32m~\\Anaconda3\\lib\\site-packages\\zmq\\sugar\\socket.py\u001b[0m in \u001b[0;36mrecv_multipart\u001b[1;34m(self, flags, copy, track)\u001b[0m\n\u001b[0;32m    474\u001b[0m         \"\"\"\n\u001b[1;32m--> 475\u001b[1;33m         \u001b[0mparts\u001b[0m \u001b[1;33m=\u001b[0m \u001b[1;33m[\u001b[0m\u001b[0mself\u001b[0m\u001b[1;33m.\u001b[0m\u001b[0mrecv\u001b[0m\u001b[1;33m(\u001b[0m\u001b[0mflags\u001b[0m\u001b[1;33m,\u001b[0m \u001b[0mcopy\u001b[0m\u001b[1;33m=\u001b[0m\u001b[0mcopy\u001b[0m\u001b[1;33m,\u001b[0m \u001b[0mtrack\u001b[0m\u001b[1;33m=\u001b[0m\u001b[0mtrack\u001b[0m\u001b[1;33m)\u001b[0m\u001b[1;33m]\u001b[0m\u001b[1;33m\u001b[0m\u001b[1;33m\u001b[0m\u001b[0m\n\u001b[0m\u001b[0;32m    476\u001b[0m         \u001b[1;31m# have first part already, only loop while more to receive\u001b[0m\u001b[1;33m\u001b[0m\u001b[1;33m\u001b[0m\u001b[1;33m\u001b[0m\u001b[0m\n",
      "\u001b[1;32mzmq/backend/cython/socket.pyx\u001b[0m in \u001b[0;36mzmq.backend.cython.socket.Socket.recv\u001b[1;34m()\u001b[0m\n",
      "\u001b[1;32mzmq/backend/cython/socket.pyx\u001b[0m in \u001b[0;36mzmq.backend.cython.socket.Socket.recv\u001b[1;34m()\u001b[0m\n",
      "\u001b[1;32mzmq/backend/cython/socket.pyx\u001b[0m in \u001b[0;36mzmq.backend.cython.socket._recv_copy\u001b[1;34m()\u001b[0m\n",
      "\u001b[1;32m~\\Anaconda3\\lib\\site-packages\\zmq\\backend\\cython\\checkrc.pxd\u001b[0m in \u001b[0;36mzmq.backend.cython.checkrc._check_rc\u001b[1;34m()\u001b[0m\n",
      "\u001b[1;31mKeyboardInterrupt\u001b[0m: ",
      "\nDuring handling of the above exception, another exception occurred:\n",
      "\u001b[1;31mKeyboardInterrupt\u001b[0m                         Traceback (most recent call last)",
      "\u001b[1;32m<ipython-input-5-8b5bdf610764>\u001b[0m in \u001b[0;36m<module>\u001b[1;34m\u001b[0m\n\u001b[0;32m     40\u001b[0m         \u001b[1;32mif\u001b[0m \u001b[0mtime\u001b[0m\u001b[1;33m(\u001b[0m\u001b[1;33m)\u001b[0m \u001b[1;33m-\u001b[0m \u001b[0minit_exercise\u001b[0m \u001b[1;33m>\u001b[0m \u001b[0mexsecs\u001b[0m\u001b[1;33m:\u001b[0m\u001b[1;33m\u001b[0m\u001b[1;33m\u001b[0m\u001b[0m\n\u001b[0;32m     41\u001b[0m             \u001b[0mprint\u001b[0m\u001b[1;33m(\u001b[0m\u001b[1;34m\"\\nPhysical Activity time!!\\nEnter 'done' to stop the alarm.\"\u001b[0m\u001b[1;33m)\u001b[0m\u001b[1;33m\u001b[0m\u001b[1;33m\u001b[0m\u001b[0m\n\u001b[1;32m---> 42\u001b[1;33m             \u001b[0mmusiconloop\u001b[0m\u001b[1;33m(\u001b[0m\u001b[1;34m'activity.ogg'\u001b[0m\u001b[1;33m,\u001b[0m \u001b[1;34m'completed'\u001b[0m\u001b[1;33m)\u001b[0m\u001b[1;33m\u001b[0m\u001b[1;33m\u001b[0m\u001b[0m\n\u001b[0m\u001b[0;32m     43\u001b[0m             \u001b[0minit_exercise\u001b[0m \u001b[1;33m=\u001b[0m \u001b[0mtime\u001b[0m\u001b[1;33m(\u001b[0m\u001b[1;33m)\u001b[0m\u001b[1;33m\u001b[0m\u001b[1;33m\u001b[0m\u001b[0m\n\u001b[0;32m     44\u001b[0m             \u001b[0mlog_now\u001b[0m\u001b[1;33m(\u001b[0m\u001b[1;34m\"Physical activity done at\"\u001b[0m\u001b[1;33m)\u001b[0m\u001b[1;33m\u001b[0m\u001b[1;33m\u001b[0m\u001b[0m\n",
      "\u001b[1;32m<ipython-input-5-8b5bdf610764>\u001b[0m in \u001b[0;36mmusiconloop\u001b[1;34m(file, stopper)\u001b[0m\n\u001b[0;32m      8\u001b[0m     \u001b[0mmixer\u001b[0m\u001b[1;33m.\u001b[0m\u001b[0mmusic\u001b[0m\u001b[1;33m.\u001b[0m\u001b[0mplay\u001b[0m\u001b[1;33m(\u001b[0m\u001b[1;33m)\u001b[0m\u001b[1;33m\u001b[0m\u001b[1;33m\u001b[0m\u001b[0m\n\u001b[0;32m      9\u001b[0m     \u001b[1;32mwhile\u001b[0m \u001b[1;32mTrue\u001b[0m\u001b[1;33m:\u001b[0m\u001b[1;33m\u001b[0m\u001b[1;33m\u001b[0m\u001b[0m\n\u001b[1;32m---> 10\u001b[1;33m         \u001b[0ma\u001b[0m \u001b[1;33m=\u001b[0m \u001b[0minput\u001b[0m\u001b[1;33m(\u001b[0m\u001b[1;33m)\u001b[0m\u001b[1;33m\u001b[0m\u001b[1;33m\u001b[0m\u001b[0m\n\u001b[0m\u001b[0;32m     11\u001b[0m         \u001b[1;32mif\u001b[0m \u001b[0ma\u001b[0m \u001b[1;33m==\u001b[0m \u001b[0mstopper\u001b[0m\u001b[1;33m:\u001b[0m\u001b[1;33m\u001b[0m\u001b[1;33m\u001b[0m\u001b[0m\n\u001b[0;32m     12\u001b[0m             \u001b[0mmixer\u001b[0m\u001b[1;33m.\u001b[0m\u001b[0mmusic\u001b[0m\u001b[1;33m.\u001b[0m\u001b[0mstop\u001b[0m\u001b[1;33m(\u001b[0m\u001b[1;33m)\u001b[0m\u001b[1;33m\u001b[0m\u001b[1;33m\u001b[0m\u001b[0m\n",
      "\u001b[1;32m~\\Anaconda3\\lib\\site-packages\\ipykernel\\kernelbase.py\u001b[0m in \u001b[0;36mraw_input\u001b[1;34m(self, prompt)\u001b[0m\n\u001b[0;32m    858\u001b[0m             \u001b[0mself\u001b[0m\u001b[1;33m.\u001b[0m\u001b[0m_parent_ident\u001b[0m\u001b[1;33m,\u001b[0m\u001b[1;33m\u001b[0m\u001b[1;33m\u001b[0m\u001b[0m\n\u001b[0;32m    859\u001b[0m             \u001b[0mself\u001b[0m\u001b[1;33m.\u001b[0m\u001b[0m_parent_header\u001b[0m\u001b[1;33m,\u001b[0m\u001b[1;33m\u001b[0m\u001b[1;33m\u001b[0m\u001b[0m\n\u001b[1;32m--> 860\u001b[1;33m             \u001b[0mpassword\u001b[0m\u001b[1;33m=\u001b[0m\u001b[1;32mFalse\u001b[0m\u001b[1;33m,\u001b[0m\u001b[1;33m\u001b[0m\u001b[1;33m\u001b[0m\u001b[0m\n\u001b[0m\u001b[0;32m    861\u001b[0m         )\n\u001b[0;32m    862\u001b[0m \u001b[1;33m\u001b[0m\u001b[0m\n",
      "\u001b[1;32m~\\Anaconda3\\lib\\site-packages\\ipykernel\\kernelbase.py\u001b[0m in \u001b[0;36m_input_request\u001b[1;34m(self, prompt, ident, parent, password)\u001b[0m\n\u001b[0;32m    888\u001b[0m             \u001b[1;32mexcept\u001b[0m \u001b[0mKeyboardInterrupt\u001b[0m\u001b[1;33m:\u001b[0m\u001b[1;33m\u001b[0m\u001b[1;33m\u001b[0m\u001b[0m\n\u001b[0;32m    889\u001b[0m                 \u001b[1;31m# re-raise KeyboardInterrupt, to truncate traceback\u001b[0m\u001b[1;33m\u001b[0m\u001b[1;33m\u001b[0m\u001b[1;33m\u001b[0m\u001b[0m\n\u001b[1;32m--> 890\u001b[1;33m                 \u001b[1;32mraise\u001b[0m \u001b[0mKeyboardInterrupt\u001b[0m\u001b[1;33m\u001b[0m\u001b[1;33m\u001b[0m\u001b[0m\n\u001b[0m\u001b[0;32m    891\u001b[0m             \u001b[1;32melse\u001b[0m\u001b[1;33m:\u001b[0m\u001b[1;33m\u001b[0m\u001b[1;33m\u001b[0m\u001b[0m\n\u001b[0;32m    892\u001b[0m                 \u001b[1;32mbreak\u001b[0m\u001b[1;33m\u001b[0m\u001b[1;33m\u001b[0m\u001b[0m\n",
      "\u001b[1;31mKeyboardInterrupt\u001b[0m: "
     ]
    }
   ],
   "source": [
    "from pygame import mixer\n",
    "from datetime import datetime\n",
    "from time import time\n",
    "\n",
    "def musiconloop(file, stopper):\n",
    "    mixer.init()\n",
    "    mixer.music.load(file)\n",
    "    mixer.music.play()\n",
    "    while True:\n",
    "        a = input()\n",
    "        if a == stopper:\n",
    "            mixer.music.stop()\n",
    "            break\n",
    "\n",
    "def log_now(msg):\n",
    "    with open(\"amanlogs.txt\", \"a\") as f:\n",
    "        f.write(f\"{msg} {datetime.now()}\\n\")\n",
    "if __name__ == '__main__':\n",
    "    #musiconloop(\"water.ogg\", \"stop\")\n",
    "    init_water = time()\n",
    "    init_eyes = time()\n",
    "    init_exercise = time()\n",
    "    watersecs = 5\n",
    "    exsecs = 20\n",
    "    eyessecs = 10\n",
    "    \n",
    "    while True:\n",
    "        if time() - init_water > watersecs:\n",
    "            print(\"\\nWater drinking time!!\\nEnter 'drank' to stop the alarm.\")\n",
    "            musiconloop('water.ogg', 'drank')\n",
    "            init_water = time()\n",
    "            log_now(\"Drank water at\")\n",
    "            \n",
    "        if time() - init_eyes > eyessecs:\n",
    "            print(\"\\nEyes excercise time!!\\nEnter 'done' to stop the alarm.\")\n",
    "            musiconloop('eyes.ogg', 'done')\n",
    "            init_eyes = time()\n",
    "            log_now(\"Eye excercise at\")\n",
    "            \n",
    "        if time() - init_exercise > exsecs:\n",
    "            print(\"\\nPhysical Activity time!!\\nEnter 'done' to stop the alarm.\")\n",
    "            musiconloop('activity.ogg', 'completed')\n",
    "            init_exercise = time()\n",
    "            log_now(\"Physical activity done at\")"
   ]
  },
  {
   "cell_type": "code",
   "execution_count": null,
   "metadata": {},
   "outputs": [
    {
     "name": "stdout",
     "output_type": "stream",
     "text": [
      "pygame 1.9.6\n",
      "Hello from the pygame community. https://www.pygame.org/contribute.html\n",
      "Drink 0.5 litre water.\n",
      "Enter 'WDone' to stop the alarm:WDone\n",
      "\n",
      "\n",
      "Do eye exercise.\n",
      "Enter 'EDone' to stop the alarm:EDone\n",
      "\n",
      "\n",
      "Do physical exercise.\n",
      "Enter 'PDone' to stop the alarm:PDone\n"
     ]
    }
   ],
   "source": [
    "from pygame import mixer\n",
    "import time\n",
    "\n",
    "water_file=open(\"water.txt\",\"w\")\n",
    "eyes_file=open(\"eyes.txt\",\"w\")\n",
    "physical_file=open(\"physical.txt\",\"w\")\n",
    "\n",
    "for i in range(2):\n",
    "    time.sleep(5)\n",
    "\n",
    "    mixer.init()\n",
    "    mixer.music.load(\"water.ogg\")\n",
    "    mixer.music.play()\n",
    "    while True:\n",
    "        user_input1 = input(\"Drink 0.5 litre water.\\nEnter 'WDone' to stop the alarm:\")\n",
    "        if user_input1==\"WDone\":\n",
    "            mixer.music.stop()\n",
    "            water_file.write(f\"Drank water {i + 1}th time at {time.asctime(time.localtime(time.time()))}\\n\")\n",
    "            break\n",
    "        else:\n",
    "            continue\n",
    "\n",
    "    print(\"\\n\")\n",
    "\n",
    "    time.sleep(5)\n",
    "    mixer.init()\n",
    "    mixer.music.load(\"eyes.ogg\")\n",
    "    mixer.music.play()\n",
    "    while True:\n",
    "        user_input2 = input(\"Do eye exercise.\\nEnter 'EDone' to stop the alarm:\")\n",
    "        if user_input2 == \"EDone\":\n",
    "            mixer.music.stop()\n",
    "            eyes_file.write(f\"Did eye exercise {i + 1}th time at {time.asctime(time.localtime(time.time()))}\\n\")\n",
    "            break\n",
    "        else:\n",
    "            continue\n",
    "\n",
    "\n",
    "    print(\"\\n\")\n",
    "\n",
    "    time.sleep(5)\n",
    "    mixer.init()\n",
    "    mixer.music.load(\"activity.ogg\")\n",
    "    mixer.music.play()\n",
    "    while True:\n",
    "        user_input3 = input(\"Do physical exercise.\\nEnter 'PDone' to stop the alarm:\")\n",
    "        if user_input3 == \"PDone\":\n",
    "            mixer.music.stop()\n",
    "            physical_file.write(\n",
    "                f\"Did physical exercise {i + 1}th time at {time.asctime(time.localtime(time.time()))}\\n\")\n",
    "            break\n",
    "        else:\n",
    "            continue\n",
    "        print(\"\\n\")\n",
    "\n",
    "\n",
    "water_file.close()\n",
    "eyes_file.close()\n",
    "physical_file.close()"
   ]
  },
  {
   "cell_type": "code",
   "execution_count": null,
   "metadata": {},
   "outputs": [],
   "source": []
  }
 ],
 "metadata": {
  "kernelspec": {
   "display_name": "Python 3",
   "language": "python",
   "name": "python3"
  },
  "language_info": {
   "codemirror_mode": {
    "name": "ipython",
    "version": 3
   },
   "file_extension": ".py",
   "mimetype": "text/x-python",
   "name": "python",
   "nbconvert_exporter": "python",
   "pygments_lexer": "ipython3",
   "version": "3.7.4"
  }
 },
 "nbformat": 4,
 "nbformat_minor": 2
}
